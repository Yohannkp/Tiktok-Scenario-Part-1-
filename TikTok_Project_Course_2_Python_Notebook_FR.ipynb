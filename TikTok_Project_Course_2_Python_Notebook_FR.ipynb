{
 "cells": [
  {
   "cell_type": "markdown",
   "id": "09f045df",
   "metadata": {},
   "source": [
    "# **Projet TikTok**"
   ]
  },
  {
   "cell_type": "markdown",
   "id": "d79b0a73",
   "metadata": {},
   "source": [
    "Bienvenue dans le projet TikTok !\n",
    "\n",
    "On vient de commencer en tant que professionnel des données chez TikTok.\n",
    "\n",
    "L'équipe en est encore aux premières étapes du projet. On a reçu une notification indiquant que l'équipe dirigeante de TikTok a approuvé la proposition de projet. Pour obtenir des insights clairs et préparer un modèle de classification des revendications, on doit examiner les données fournies par TikTok afin de lancer le processus d'analyse exploratoire des données (EDA)."
   ]
  },
  {
   "cell_type": "markdown",
   "id": "29ca4b36",
   "metadata": {},
   "source": [
    "# **Identifier les types de données et compiler les informations résumées**"
   ]
  },
  {
   "cell_type": "markdown",
   "id": "179d81a5",
   "metadata": {},
   "source": [
    "# **Étapes PACE**\n",
    "\n",
    "Tout au long de ces notebooks de projet, on verra des références au cadre de résolution de problèmes PACE. Les différentes sections du notebook sont étiquetées en fonction des étapes correspondantes de PACE : **Planifier (Plan), Analyser (Analyze), Construire (Construct) et Exécuter (Execute).**"
   ]
  },
  {
   "cell_type": "markdown",
   "id": "66c0622f",
   "metadata": {},
   "source": [
    "\n",
    "## **PACE : Plan**\n",
    "\n",
    "On doit prendre en compte les questions du document de stratégie PACE et celles ci-dessous pour formuler une réponse :\n",
    "\n",
    "### **Tâche 1. Comprendre la situation**\n",
    "\n",
    "* Comment peut-on mieux se préparer à comprendre et organiser les informations fournies ?\n",
    "\n",
    "*On commence par explorer le jeu de données et on peut aussi consulter le dictionnaire des données.*\n",
    "\n",
    "On se prépare en chargeant les données, en consultant le dictionnaire des données et en explorant le jeu de données pour identifier les variables clés pour les parties prenantes."
   ]
  },
  {
   "cell_type": "markdown",
   "id": "98236f32",
   "metadata": {},
   "source": [
    "\n",
    "## **PACE : Analyser**\n",
    "\n",
    "On prend en compte les questions du document de stratégie PACE pour réfléchir à l'étape d'analyse.\n",
    "\n",
    "### **Tâche 2a. Importation et chargement des données**\n",
    "\n",
    "On commence par importer les bibliothèques nécessaires pour charger et explorer le jeu de données.\n",
    "\n",
    "On doit s'assurer d'utiliser les instructions suivantes :"
   ]
  },
  {
   "cell_type": "code",
   "execution_count": null,
   "id": "c4c719ce",
   "metadata": {},
   "outputs": [],
   "source": [
    "import pandas as pd\n",
    "import numpy as np"
   ]
  },
  {
   "cell_type": "markdown",
   "id": "dd78f79a",
   "metadata": {},
   "source": [
    "Ensuite, on charge le jeu de données dans un dataframe. Cela nous aidera à manipuler les données, à effectuer une analyse exploratoire des données (EDA) et à réaliser des activités statistiques.\n",
    "\n",
    "**Remarque :** Comme indiqué dans cette cellule, le jeu de données a été automatiquement chargé. On n'a pas besoin de télécharger le fichier CSV ou d'ajouter du code supplémentaire pour y accéder et poursuivre cette activité."
   ]
  },
  {
   "cell_type": "code",
   "execution_count": null,
   "id": "857c3ecc",
   "metadata": {},
   "outputs": [],
   "source": [
    "data = pd.read_csv(\"tiktok_dataset.csv\")"
   ]
  },
  {
   "cell_type": "markdown",
   "id": "d962f5f7",
   "metadata": {},
   "source": [
    "### **Tâche 2b. Comprendre les données - Inspection des données**\n",
    "\n",
    "On examine et inspecte les informations du dataframe en exécutant le code suivant :"
   ]
  },
  {
   "cell_type": "code",
   "execution_count": null,
   "id": "3ccb3b9d",
   "metadata": {},
   "outputs": [],
   "source": [
    "data.head(10)  # Afficher les 10 premières lignes du dataframe\n",
    "data.info()  # Obtenir des informations sur les types de données et les valeurs manquantes\n",
    "data.describe()  # Obtenir des statistiques descriptives"
   ]
  },
  {
   "cell_type": "markdown",
   "id": "434cab10",
   "metadata": {},
   "source": [
    "1. Le dataframe contient des données catégorielles, textuelles et numériques. Chaque ligne représente une vidéo TikTok qui présente soit une revendication, soit une opinion, accompagnée de ses métadonnées.\n",
    "2. Le dataframe contient cinq variables en **float64**, trois en **int64** et quatre en **objet**. Il y a **19 382** observations, mais certaines variables ont des valeurs manquantes, notamment le **statut de revendication**, la **transcription de la vidéo** et toutes les **variables de comptage**.\n",
    "3. De nombreuses variables de comptage semblent avoir des valeurs aberrantes à l'extrémité supérieure de la distribution. Elles ont des écarts-types très élevés et des valeurs maximales bien supérieures aux quartiles."
   ]
  }
 ],
 "metadata": {
  "language_info": {
   "name": "python"
  }
 },
 "nbformat": 4,
 "nbformat_minor": 5
}
